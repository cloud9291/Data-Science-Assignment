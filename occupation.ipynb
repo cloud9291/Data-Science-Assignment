{
 "cells": [
  {
   "cell_type": "markdown",
   "metadata": {},
   "source": [
    "# Ex3 - Getting and Knowing your Data"
   ]
  },
  {
   "cell_type": "markdown",
   "metadata": {},
   "source": [
    "This time we are going to pull data directly from the internet.\n",
    "Special thanks to: https://github.com/justmarkham for sharing the dataset and materials.\n",
    "\n",
    "### Step 1. Import the necessary libraries"
   ]
  },
  {
   "cell_type": "code",
   "execution_count": 38,
   "metadata": {
    "collapsed": false
   },
   "outputs": [],
   "source": [
    "import pandas as pd"
   ]
  },
  {
   "cell_type": "markdown",
   "metadata": {},
   "source": [
    "### Step 2. Import the dataset from this [address](https://raw.githubusercontent.com/justmarkham/DAT8/master/data/u.user). "
   ]
  },
  {
   "cell_type": "markdown",
   "metadata": {},
   "source": [
    "### Step 3. Assign it to a variable called users and use the 'user_id' as index"
   ]
  },
  {
   "cell_type": "code",
   "execution_count": 60,
   "metadata": {
    "collapsed": false
   },
   "outputs": [],
   "source": [
    "df = pd.read_csv('https://query.data.world/s/r64mxcsidf57qvqmchxp22yeoniwkg?dws=00000')"
   ]
  },
  {
   "cell_type": "markdown",
   "metadata": {},
   "source": [
    "### Step 4. See the first 25 entries"
   ]
  },
  {
   "cell_type": "code",
   "execution_count": 45,
   "metadata": {
    "collapsed": false,
    "scrolled": true
   },
   "outputs": [
    {
     "data": {
      "text/html": [
       "<div>\n",
       "<style scoped>\n",
       "    .dataframe tbody tr th:only-of-type {\n",
       "        vertical-align: middle;\n",
       "    }\n",
       "\n",
       "    .dataframe tbody tr th {\n",
       "        vertical-align: top;\n",
       "    }\n",
       "\n",
       "    .dataframe thead th {\n",
       "        text-align: right;\n",
       "    }\n",
       "</style>\n",
       "<table border=\"1\" class=\"dataframe\">\n",
       "  <thead>\n",
       "    <tr style=\"text-align: right;\">\n",
       "      <th></th>\n",
       "      <th>name</th>\n",
       "      <th>birthday</th>\n",
       "      <th>title</th>\n",
       "      <th>characterName</th>\n",
       "      <th>characterYear</th>\n",
       "      <th>characterAge</th>\n",
       "      <th>characterGender</th>\n",
       "      <th>loveInterest</th>\n",
       "    </tr>\n",
       "  </thead>\n",
       "  <tbody>\n",
       "    <tr>\n",
       "      <th>0</th>\n",
       "      <td>Ben Platt</td>\n",
       "      <td>09/24/1993</td>\n",
       "      <td>The Politician</td>\n",
       "      <td>Payton Hobart</td>\n",
       "      <td>hs senior</td>\n",
       "      <td>NaN</td>\n",
       "      <td>M</td>\n",
       "      <td>Alice Charles, Astrid Sloan, River Barkley</td>\n",
       "    </tr>\n",
       "    <tr>\n",
       "      <th>1</th>\n",
       "      <td>Zoey Deutch</td>\n",
       "      <td>11/10/1994</td>\n",
       "      <td>The Politician</td>\n",
       "      <td>Infinity Jackson</td>\n",
       "      <td>hs senior</td>\n",
       "      <td>NaN</td>\n",
       "      <td>F</td>\n",
       "      <td>NaN</td>\n",
       "    </tr>\n",
       "    <tr>\n",
       "      <th>2</th>\n",
       "      <td>Lucy Boynton</td>\n",
       "      <td>01/17/1994</td>\n",
       "      <td>The Politician</td>\n",
       "      <td>Astrid Sloan</td>\n",
       "      <td>hs senior</td>\n",
       "      <td>NaN</td>\n",
       "      <td>F</td>\n",
       "      <td>Payton Hobart, River Barkley</td>\n",
       "    </tr>\n",
       "    <tr>\n",
       "      <th>3</th>\n",
       "      <td>Julia Schlaepfer</td>\n",
       "      <td>03/03/1995</td>\n",
       "      <td>The Politician</td>\n",
       "      <td>Alice Charles</td>\n",
       "      <td>hs senior</td>\n",
       "      <td>NaN</td>\n",
       "      <td>F</td>\n",
       "      <td>Payton Hobart, James Sullivan</td>\n",
       "    </tr>\n",
       "    <tr>\n",
       "      <th>4</th>\n",
       "      <td>Laura Dreyfuss</td>\n",
       "      <td>08/22/1988</td>\n",
       "      <td>The Politician</td>\n",
       "      <td>McAfee Westbrook</td>\n",
       "      <td>hs senior</td>\n",
       "      <td>NaN</td>\n",
       "      <td>F</td>\n",
       "      <td>Skye Leighton</td>\n",
       "    </tr>\n",
       "    <tr>\n",
       "      <th>5</th>\n",
       "      <td>Theo Germaine</td>\n",
       "      <td>NaN</td>\n",
       "      <td>The Politician</td>\n",
       "      <td>James Sullivan</td>\n",
       "      <td>hs senior</td>\n",
       "      <td>NaN</td>\n",
       "      <td>M</td>\n",
       "      <td>Alice Charles</td>\n",
       "    </tr>\n",
       "    <tr>\n",
       "      <th>6</th>\n",
       "      <td>Rahne Jones</td>\n",
       "      <td>05/04/1987</td>\n",
       "      <td>The Politician</td>\n",
       "      <td>Skye Leighton</td>\n",
       "      <td>hs senior</td>\n",
       "      <td>NaN</td>\n",
       "      <td>NB</td>\n",
       "      <td>McAfee Westbrook</td>\n",
       "    </tr>\n",
       "    <tr>\n",
       "      <th>7</th>\n",
       "      <td>David Corenswet</td>\n",
       "      <td>07/08/1993</td>\n",
       "      <td>The Politician</td>\n",
       "      <td>River Barkley</td>\n",
       "      <td>hs senior</td>\n",
       "      <td>NaN</td>\n",
       "      <td>M</td>\n",
       "      <td>Astrid Sloan, Payton Hobart</td>\n",
       "    </tr>\n",
       "    <tr>\n",
       "      <th>8</th>\n",
       "      <td>Ryan J. Haddad</td>\n",
       "      <td>01/03/1992</td>\n",
       "      <td>The Politician</td>\n",
       "      <td>Andrew Cashman</td>\n",
       "      <td>hs senior</td>\n",
       "      <td>NaN</td>\n",
       "      <td>M</td>\n",
       "      <td>NaN</td>\n",
       "    </tr>\n",
       "    <tr>\n",
       "      <th>9</th>\n",
       "      <td>Alexis Bledel</td>\n",
       "      <td>09/16/1981</td>\n",
       "      <td>Gilmore Girls</td>\n",
       "      <td>Rory Gilmore</td>\n",
       "      <td>hs sophomore</td>\n",
       "      <td>NaN</td>\n",
       "      <td>F</td>\n",
       "      <td>Dean Forester</td>\n",
       "    </tr>\n",
       "    <tr>\n",
       "      <th>10</th>\n",
       "      <td>Keiko Agena</td>\n",
       "      <td>10/03/1973</td>\n",
       "      <td>Gilmore Girls</td>\n",
       "      <td>Lane Kim</td>\n",
       "      <td>hs sophomore</td>\n",
       "      <td>NaN</td>\n",
       "      <td>F</td>\n",
       "      <td>NaN</td>\n",
       "    </tr>\n",
       "    <tr>\n",
       "      <th>11</th>\n",
       "      <td>Liza Weil</td>\n",
       "      <td>06/05/1977</td>\n",
       "      <td>Gilmore Girls</td>\n",
       "      <td>Paris Geller</td>\n",
       "      <td>hs sophomore</td>\n",
       "      <td>NaN</td>\n",
       "      <td>F</td>\n",
       "      <td>NaN</td>\n",
       "    </tr>\n",
       "    <tr>\n",
       "      <th>12</th>\n",
       "      <td>Jared Padalecki</td>\n",
       "      <td>07/19/1982</td>\n",
       "      <td>Gilmore Girls</td>\n",
       "      <td>Dean Forester</td>\n",
       "      <td>hs sophomore</td>\n",
       "      <td>NaN</td>\n",
       "      <td>M</td>\n",
       "      <td>Rory Gilmore</td>\n",
       "    </tr>\n",
       "    <tr>\n",
       "      <th>13</th>\n",
       "      <td>Teal Redmann</td>\n",
       "      <td>09/30/1982</td>\n",
       "      <td>Gilmore Girls</td>\n",
       "      <td>Louise Grant</td>\n",
       "      <td>hs sophomore</td>\n",
       "      <td>NaN</td>\n",
       "      <td>F</td>\n",
       "      <td>NaN</td>\n",
       "    </tr>\n",
       "    <tr>\n",
       "      <th>14</th>\n",
       "      <td>Shelly Cole</td>\n",
       "      <td>08/22/1975</td>\n",
       "      <td>Gilmore Girls</td>\n",
       "      <td>Madeline Lynn</td>\n",
       "      <td>hs sophomore</td>\n",
       "      <td>NaN</td>\n",
       "      <td>F</td>\n",
       "      <td>NaN</td>\n",
       "    </tr>\n",
       "    <tr>\n",
       "      <th>15</th>\n",
       "      <td>Chad Michael Murray</td>\n",
       "      <td>08/24/1981</td>\n",
       "      <td>Gilmore Girls</td>\n",
       "      <td>Tristin Dugray</td>\n",
       "      <td>hs sophomore</td>\n",
       "      <td>NaN</td>\n",
       "      <td>M</td>\n",
       "      <td>NaN</td>\n",
       "    </tr>\n",
       "    <tr>\n",
       "      <th>16</th>\n",
       "      <td>Asa Butterfield</td>\n",
       "      <td>04/01/1997</td>\n",
       "      <td>Sex Education</td>\n",
       "      <td>Otis Milburn</td>\n",
       "      <td>NaN</td>\n",
       "      <td>16.0</td>\n",
       "      <td>M</td>\n",
       "      <td>Maeve Wiley, Lily Iglehart, Ola Nyman</td>\n",
       "    </tr>\n",
       "    <tr>\n",
       "      <th>17</th>\n",
       "      <td>Ncuti Gatwa</td>\n",
       "      <td>10/15/1992</td>\n",
       "      <td>Sex Education</td>\n",
       "      <td>Eric Effiong</td>\n",
       "      <td>NaN</td>\n",
       "      <td>16.0</td>\n",
       "      <td>M</td>\n",
       "      <td>Adam Groff</td>\n",
       "    </tr>\n",
       "    <tr>\n",
       "      <th>18</th>\n",
       "      <td>Emma Mackey</td>\n",
       "      <td>01/04/1996</td>\n",
       "      <td>Sex Education</td>\n",
       "      <td>Maeve Wiley</td>\n",
       "      <td>NaN</td>\n",
       "      <td>16.0</td>\n",
       "      <td>F</td>\n",
       "      <td>Otis Milburn, Jackson Marchetti</td>\n",
       "    </tr>\n",
       "    <tr>\n",
       "      <th>19</th>\n",
       "      <td>Connor Swindells</td>\n",
       "      <td>09/19/1996</td>\n",
       "      <td>Sex Education</td>\n",
       "      <td>Adam Groff</td>\n",
       "      <td>NaN</td>\n",
       "      <td>16.0</td>\n",
       "      <td>M</td>\n",
       "      <td>Eric Effiong, Aimee Gibbs</td>\n",
       "    </tr>\n",
       "    <tr>\n",
       "      <th>20</th>\n",
       "      <td>Kedar Williams-Stirling</td>\n",
       "      <td>12/14/1994</td>\n",
       "      <td>Sex Education</td>\n",
       "      <td>Jackson Marchetti</td>\n",
       "      <td>NaN</td>\n",
       "      <td>16.0</td>\n",
       "      <td>M</td>\n",
       "      <td>Maeve Wiley</td>\n",
       "    </tr>\n",
       "    <tr>\n",
       "      <th>21</th>\n",
       "      <td>Aimee Lou Wood</td>\n",
       "      <td>02/03/1995</td>\n",
       "      <td>Sex Education</td>\n",
       "      <td>Aimee Gibbs</td>\n",
       "      <td>NaN</td>\n",
       "      <td>16.0</td>\n",
       "      <td>F</td>\n",
       "      <td>Adam Groff</td>\n",
       "    </tr>\n",
       "    <tr>\n",
       "      <th>22</th>\n",
       "      <td>Tanya Reynolds</td>\n",
       "      <td>11/4/1991</td>\n",
       "      <td>Sex Education</td>\n",
       "      <td>Lily Iglehart</td>\n",
       "      <td>NaN</td>\n",
       "      <td>16.0</td>\n",
       "      <td>F</td>\n",
       "      <td>Otis Milburn</td>\n",
       "    </tr>\n",
       "    <tr>\n",
       "      <th>23</th>\n",
       "      <td>Patricia Allison</td>\n",
       "      <td>12/07/1994</td>\n",
       "      <td>Sex Education</td>\n",
       "      <td>Ola Nyman</td>\n",
       "      <td>NaN</td>\n",
       "      <td>16.0</td>\n",
       "      <td>F</td>\n",
       "      <td>Otis Milburn</td>\n",
       "    </tr>\n",
       "    <tr>\n",
       "      <th>24</th>\n",
       "      <td>Mimi Keene</td>\n",
       "      <td>08/05/1998</td>\n",
       "      <td>Sex Education</td>\n",
       "      <td>Ruby Matthews</td>\n",
       "      <td>NaN</td>\n",
       "      <td>16.0</td>\n",
       "      <td>F</td>\n",
       "      <td>NaN</td>\n",
       "    </tr>\n",
       "  </tbody>\n",
       "</table>\n",
       "</div>"
      ],
      "text/plain": [
       "                       name    birthday           title      characterName  \\\n",
       "0                 Ben Platt  09/24/1993  The Politician      Payton Hobart   \n",
       "1               Zoey Deutch  11/10/1994  The Politician   Infinity Jackson   \n",
       "2              Lucy Boynton  01/17/1994  The Politician       Astrid Sloan   \n",
       "3          Julia Schlaepfer  03/03/1995  The Politician      Alice Charles   \n",
       "4            Laura Dreyfuss  08/22/1988  The Politician   McAfee Westbrook   \n",
       "5             Theo Germaine         NaN  The Politician     James Sullivan   \n",
       "6               Rahne Jones  05/04/1987  The Politician      Skye Leighton   \n",
       "7           David Corenswet  07/08/1993  The Politician      River Barkley   \n",
       "8            Ryan J. Haddad  01/03/1992  The Politician     Andrew Cashman   \n",
       "9             Alexis Bledel  09/16/1981   Gilmore Girls       Rory Gilmore   \n",
       "10              Keiko Agena  10/03/1973   Gilmore Girls           Lane Kim   \n",
       "11                Liza Weil  06/05/1977   Gilmore Girls       Paris Geller   \n",
       "12          Jared Padalecki  07/19/1982   Gilmore Girls      Dean Forester   \n",
       "13             Teal Redmann  09/30/1982   Gilmore Girls       Louise Grant   \n",
       "14              Shelly Cole  08/22/1975   Gilmore Girls      Madeline Lynn   \n",
       "15      Chad Michael Murray  08/24/1981   Gilmore Girls     Tristin Dugray   \n",
       "16          Asa Butterfield  04/01/1997   Sex Education       Otis Milburn   \n",
       "17              Ncuti Gatwa  10/15/1992   Sex Education       Eric Effiong   \n",
       "18              Emma Mackey  01/04/1996   Sex Education        Maeve Wiley   \n",
       "19         Connor Swindells  09/19/1996   Sex Education         Adam Groff   \n",
       "20  Kedar Williams-Stirling  12/14/1994   Sex Education  Jackson Marchetti   \n",
       "21           Aimee Lou Wood  02/03/1995   Sex Education        Aimee Gibbs   \n",
       "22           Tanya Reynolds   11/4/1991   Sex Education      Lily Iglehart   \n",
       "23         Patricia Allison  12/07/1994   Sex Education          Ola Nyman   \n",
       "24               Mimi Keene  08/05/1998   Sex Education      Ruby Matthews   \n",
       "\n",
       "   characterYear  characterAge characterGender  \\\n",
       "0      hs senior           NaN               M   \n",
       "1      hs senior           NaN               F   \n",
       "2      hs senior           NaN               F   \n",
       "3      hs senior           NaN               F   \n",
       "4      hs senior           NaN               F   \n",
       "5      hs senior           NaN               M   \n",
       "6      hs senior           NaN              NB   \n",
       "7      hs senior           NaN               M   \n",
       "8      hs senior           NaN               M   \n",
       "9   hs sophomore           NaN               F   \n",
       "10  hs sophomore           NaN               F   \n",
       "11  hs sophomore           NaN               F   \n",
       "12  hs sophomore           NaN               M   \n",
       "13  hs sophomore           NaN               F   \n",
       "14  hs sophomore           NaN               F   \n",
       "15  hs sophomore           NaN               M   \n",
       "16           NaN          16.0               M   \n",
       "17           NaN          16.0               M   \n",
       "18           NaN          16.0               F   \n",
       "19           NaN          16.0               M   \n",
       "20           NaN          16.0               M   \n",
       "21           NaN          16.0               F   \n",
       "22           NaN          16.0               F   \n",
       "23           NaN          16.0               F   \n",
       "24           NaN          16.0               F   \n",
       "\n",
       "                                  loveInterest  \n",
       "0   Alice Charles, Astrid Sloan, River Barkley  \n",
       "1                                          NaN  \n",
       "2                 Payton Hobart, River Barkley  \n",
       "3                Payton Hobart, James Sullivan  \n",
       "4                                Skye Leighton  \n",
       "5                                Alice Charles  \n",
       "6                             McAfee Westbrook  \n",
       "7                  Astrid Sloan, Payton Hobart  \n",
       "8                                          NaN  \n",
       "9                                Dean Forester  \n",
       "10                                         NaN  \n",
       "11                                         NaN  \n",
       "12                                Rory Gilmore  \n",
       "13                                         NaN  \n",
       "14                                         NaN  \n",
       "15                                         NaN  \n",
       "16       Maeve Wiley, Lily Iglehart, Ola Nyman  \n",
       "17                                  Adam Groff  \n",
       "18             Otis Milburn, Jackson Marchetti  \n",
       "19                   Eric Effiong, Aimee Gibbs  \n",
       "20                                 Maeve Wiley  \n",
       "21                                  Adam Groff  \n",
       "22                                Otis Milburn  \n",
       "23                                Otis Milburn  \n",
       "24                                         NaN  "
      ]
     },
     "execution_count": 45,
     "metadata": {},
     "output_type": "execute_result"
    }
   ],
   "source": [
    "df.head(25)"
   ]
  },
  {
   "cell_type": "markdown",
   "metadata": {},
   "source": [
    "### Step 5. See the last 10 entries"
   ]
  },
  {
   "cell_type": "code",
   "execution_count": 47,
   "metadata": {
    "collapsed": false,
    "scrolled": true
   },
   "outputs": [
    {
     "data": {
      "text/html": [
       "<div>\n",
       "<style scoped>\n",
       "    .dataframe tbody tr th:only-of-type {\n",
       "        vertical-align: middle;\n",
       "    }\n",
       "\n",
       "    .dataframe tbody tr th {\n",
       "        vertical-align: top;\n",
       "    }\n",
       "\n",
       "    .dataframe thead th {\n",
       "        text-align: right;\n",
       "    }\n",
       "</style>\n",
       "<table border=\"1\" class=\"dataframe\">\n",
       "  <thead>\n",
       "    <tr style=\"text-align: right;\">\n",
       "      <th></th>\n",
       "      <th>name</th>\n",
       "      <th>birthday</th>\n",
       "      <th>title</th>\n",
       "      <th>characterName</th>\n",
       "      <th>characterYear</th>\n",
       "      <th>characterAge</th>\n",
       "      <th>characterGender</th>\n",
       "      <th>loveInterest</th>\n",
       "    </tr>\n",
       "  </thead>\n",
       "  <tbody>\n",
       "    <tr>\n",
       "      <th>233</th>\n",
       "      <td>Connor Jessup</td>\n",
       "      <td>06/23/1994</td>\n",
       "      <td>Locke &amp; Key</td>\n",
       "      <td>Tyler Locke</td>\n",
       "      <td>NaN</td>\n",
       "      <td>17.0</td>\n",
       "      <td>M</td>\n",
       "      <td>Jackie Veda</td>\n",
       "    </tr>\n",
       "    <tr>\n",
       "      <th>234</th>\n",
       "      <td>Emilia Jones</td>\n",
       "      <td>02/23/2002</td>\n",
       "      <td>Locke &amp; Key</td>\n",
       "      <td>Kinsey Locke</td>\n",
       "      <td>hs sophomore</td>\n",
       "      <td>NaN</td>\n",
       "      <td>F</td>\n",
       "      <td>Gabe, Scot Cavendish</td>\n",
       "    </tr>\n",
       "    <tr>\n",
       "      <th>235</th>\n",
       "      <td>Griffin Gluck</td>\n",
       "      <td>08/24/2000</td>\n",
       "      <td>Locke &amp; Key</td>\n",
       "      <td>Gabe</td>\n",
       "      <td>hs sophomore</td>\n",
       "      <td>NaN</td>\n",
       "      <td>M</td>\n",
       "      <td>Kinsey Locke</td>\n",
       "    </tr>\n",
       "    <tr>\n",
       "      <th>236</th>\n",
       "      <td>Petrice Jones</td>\n",
       "      <td>05/10/1993</td>\n",
       "      <td>Locke &amp; Key</td>\n",
       "      <td>Scot Cavendish</td>\n",
       "      <td>hs junior</td>\n",
       "      <td>NaN</td>\n",
       "      <td>M</td>\n",
       "      <td>Kinsey Locke</td>\n",
       "    </tr>\n",
       "    <tr>\n",
       "      <th>237</th>\n",
       "      <td>Genevieve Kang</td>\n",
       "      <td>NaN</td>\n",
       "      <td>Locke &amp; Key</td>\n",
       "      <td>Jackie Veda</td>\n",
       "      <td>NaN</td>\n",
       "      <td>17.0</td>\n",
       "      <td>F</td>\n",
       "      <td>Tyler Locke</td>\n",
       "    </tr>\n",
       "    <tr>\n",
       "      <th>238</th>\n",
       "      <td>Thomas Mitchell Barnet</td>\n",
       "      <td>NaN</td>\n",
       "      <td>Locke &amp; Key</td>\n",
       "      <td>Sam Lesser</td>\n",
       "      <td>hs junior</td>\n",
       "      <td>NaN</td>\n",
       "      <td>M</td>\n",
       "      <td>NaN</td>\n",
       "    </tr>\n",
       "    <tr>\n",
       "      <th>239</th>\n",
       "      <td>Kevin Alves</td>\n",
       "      <td>10/19/1991</td>\n",
       "      <td>Locke &amp; Key</td>\n",
       "      <td>Javi</td>\n",
       "      <td>hs junior</td>\n",
       "      <td>NaN</td>\n",
       "      <td>M</td>\n",
       "      <td>NaN</td>\n",
       "    </tr>\n",
       "    <tr>\n",
       "      <th>240</th>\n",
       "      <td>Asha Bromfield</td>\n",
       "      <td>11/09/1994</td>\n",
       "      <td>Locke &amp; Key</td>\n",
       "      <td>Zadie Wells</td>\n",
       "      <td>hs junior</td>\n",
       "      <td>NaN</td>\n",
       "      <td>F</td>\n",
       "      <td>NaN</td>\n",
       "    </tr>\n",
       "    <tr>\n",
       "      <th>241</th>\n",
       "      <td>Felix Mallard</td>\n",
       "      <td>04/20/1998</td>\n",
       "      <td>Locke &amp; Key</td>\n",
       "      <td>Lucas Caravaggio</td>\n",
       "      <td>NaN</td>\n",
       "      <td>17.0</td>\n",
       "      <td>M</td>\n",
       "      <td>NaN</td>\n",
       "    </tr>\n",
       "    <tr>\n",
       "      <th>242</th>\n",
       "      <td>Hallea Jones</td>\n",
       "      <td>NaN</td>\n",
       "      <td>Locke &amp; Key</td>\n",
       "      <td>Eden Hawkins</td>\n",
       "      <td>hs junior</td>\n",
       "      <td>NaN</td>\n",
       "      <td>F</td>\n",
       "      <td>NaN</td>\n",
       "    </tr>\n",
       "  </tbody>\n",
       "</table>\n",
       "</div>"
      ],
      "text/plain": [
       "                       name    birthday        title     characterName  \\\n",
       "233           Connor Jessup  06/23/1994  Locke & Key       Tyler Locke   \n",
       "234            Emilia Jones  02/23/2002  Locke & Key      Kinsey Locke   \n",
       "235           Griffin Gluck  08/24/2000  Locke & Key              Gabe   \n",
       "236           Petrice Jones  05/10/1993  Locke & Key    Scot Cavendish   \n",
       "237          Genevieve Kang         NaN  Locke & Key       Jackie Veda   \n",
       "238  Thomas Mitchell Barnet         NaN  Locke & Key        Sam Lesser   \n",
       "239             Kevin Alves  10/19/1991  Locke & Key              Javi   \n",
       "240          Asha Bromfield  11/09/1994  Locke & Key       Zadie Wells   \n",
       "241           Felix Mallard  04/20/1998  Locke & Key  Lucas Caravaggio   \n",
       "242            Hallea Jones         NaN  Locke & Key      Eden Hawkins   \n",
       "\n",
       "    characterYear  characterAge characterGender          loveInterest  \n",
       "233           NaN          17.0               M           Jackie Veda  \n",
       "234  hs sophomore           NaN               F  Gabe, Scot Cavendish  \n",
       "235  hs sophomore           NaN               M          Kinsey Locke  \n",
       "236     hs junior           NaN               M          Kinsey Locke  \n",
       "237           NaN          17.0               F           Tyler Locke  \n",
       "238     hs junior           NaN               M                   NaN  \n",
       "239     hs junior           NaN               M                   NaN  \n",
       "240     hs junior           NaN               F                   NaN  \n",
       "241           NaN          17.0               M                   NaN  \n",
       "242     hs junior           NaN               F                   NaN  "
      ]
     },
     "execution_count": 47,
     "metadata": {},
     "output_type": "execute_result"
    }
   ],
   "source": [
    "df.tail(10)"
   ]
  },
  {
   "cell_type": "markdown",
   "metadata": {},
   "source": [
    "### Step 6. What is the number of observations in the dataset?"
   ]
  },
  {
   "cell_type": "code",
   "execution_count": 48,
   "metadata": {
    "collapsed": false
   },
   "outputs": [
    {
     "data": {
      "text/plain": [
       "243"
      ]
     },
     "execution_count": 48,
     "metadata": {},
     "output_type": "execute_result"
    }
   ],
   "source": [
    "df.shape[0]"
   ]
  },
  {
   "cell_type": "markdown",
   "metadata": {},
   "source": [
    "### Step 7. What is the number of columns in the dataset?"
   ]
  },
  {
   "cell_type": "code",
   "execution_count": 49,
   "metadata": {
    "collapsed": false
   },
   "outputs": [
    {
     "data": {
      "text/plain": [
       "8"
      ]
     },
     "execution_count": 49,
     "metadata": {},
     "output_type": "execute_result"
    }
   ],
   "source": [
    "df.shape[1]"
   ]
  },
  {
   "cell_type": "markdown",
   "metadata": {},
   "source": [
    "### Step 8. Print the name of all the columns."
   ]
  },
  {
   "cell_type": "code",
   "execution_count": 50,
   "metadata": {
    "collapsed": false
   },
   "outputs": [
    {
     "data": {
      "text/plain": [
       "Index(['name', 'birthday', 'title', 'characterName', 'characterYear',\n",
       "       'characterAge', 'characterGender', 'loveInterest'],\n",
       "      dtype='object')"
      ]
     },
     "execution_count": 50,
     "metadata": {},
     "output_type": "execute_result"
    }
   ],
   "source": [
    "df.columns"
   ]
  },
  {
   "cell_type": "markdown",
   "metadata": {},
   "source": [
    "### Step 9. How is the dataset indexed?"
   ]
  },
  {
   "cell_type": "code",
   "execution_count": 51,
   "metadata": {
    "collapsed": false
   },
   "outputs": [
    {
     "data": {
      "text/plain": [
       "RangeIndex(start=0, stop=243, step=1)"
      ]
     },
     "execution_count": 51,
     "metadata": {},
     "output_type": "execute_result"
    }
   ],
   "source": [
    "df.index"
   ]
  },
  {
   "cell_type": "markdown",
   "metadata": {},
   "source": [
    "### Step 10. What is the data type of each column?"
   ]
  },
  {
   "cell_type": "code",
   "execution_count": 52,
   "metadata": {
    "collapsed": false
   },
   "outputs": [
    {
     "data": {
      "text/plain": [
       "name                object\n",
       "birthday            object\n",
       "title               object\n",
       "characterName       object\n",
       "characterYear       object\n",
       "characterAge       float64\n",
       "characterGender     object\n",
       "loveInterest        object\n",
       "dtype: object"
      ]
     },
     "execution_count": 52,
     "metadata": {},
     "output_type": "execute_result"
    }
   ],
   "source": [
    "df.dtypes"
   ]
  },
  {
   "cell_type": "markdown",
   "metadata": {},
   "source": [
    "### Step 11. Print only the loveInterest column"
   ]
  },
  {
   "cell_type": "code",
   "execution_count": 53,
   "metadata": {
    "collapsed": false
   },
   "outputs": [
    {
     "data": {
      "text/plain": [
       "0      Alice Charles, Astrid Sloan, River Barkley\n",
       "1                                             NaN\n",
       "2                    Payton Hobart, River Barkley\n",
       "3                   Payton Hobart, James Sullivan\n",
       "4                                   Skye Leighton\n",
       "                          ...                    \n",
       "238                                           NaN\n",
       "239                                           NaN\n",
       "240                                           NaN\n",
       "241                                           NaN\n",
       "242                                           NaN\n",
       "Name: loveInterest, Length: 243, dtype: object"
      ]
     },
     "execution_count": 53,
     "metadata": {},
     "output_type": "execute_result"
    }
   ],
   "source": [
    "df.loveInterest"
   ]
  },
  {
   "cell_type": "markdown",
   "metadata": {},
   "source": [
    "### Step 12. How many different loveInterest are in this dataset?"
   ]
  },
  {
   "cell_type": "code",
   "execution_count": 55,
   "metadata": {
    "collapsed": false
   },
   "outputs": [
    {
     "data": {
      "text/plain": [
       "123"
      ]
     },
     "execution_count": 55,
     "metadata": {},
     "output_type": "execute_result"
    }
   ],
   "source": [
    "df.loveInterest.nunique()"
   ]
  },
  {
   "cell_type": "markdown",
   "metadata": {},
   "source": [
    "### Step 13. What is the most frequent loveInterest?"
   ]
  },
  {
   "cell_type": "code",
   "execution_count": 61,
   "metadata": {
    "collapsed": false
   },
   "outputs": [
    {
     "data": {
      "text/plain": [
       "'Adam Groff'"
      ]
     },
     "execution_count": 61,
     "metadata": {},
     "output_type": "execute_result"
    }
   ],
   "source": [
    "df.loveInterest.value_counts().head(1).index[0]"
   ]
  },
  {
   "cell_type": "markdown",
   "metadata": {},
   "source": [
    "### Step 14. Summarize the DataFrame."
   ]
  },
  {
   "cell_type": "code",
   "execution_count": 62,
   "metadata": {
    "collapsed": false
   },
   "outputs": [
    {
     "data": {
      "text/html": [
       "<div>\n",
       "<style scoped>\n",
       "    .dataframe tbody tr th:only-of-type {\n",
       "        vertical-align: middle;\n",
       "    }\n",
       "\n",
       "    .dataframe tbody tr th {\n",
       "        vertical-align: top;\n",
       "    }\n",
       "\n",
       "    .dataframe thead th {\n",
       "        text-align: right;\n",
       "    }\n",
       "</style>\n",
       "<table border=\"1\" class=\"dataframe\">\n",
       "  <thead>\n",
       "    <tr style=\"text-align: right;\">\n",
       "      <th></th>\n",
       "      <th>characterAge</th>\n",
       "    </tr>\n",
       "  </thead>\n",
       "  <tbody>\n",
       "    <tr>\n",
       "      <th>count</th>\n",
       "      <td>131.000000</td>\n",
       "    </tr>\n",
       "    <tr>\n",
       "      <th>mean</th>\n",
       "      <td>16.580153</td>\n",
       "    </tr>\n",
       "    <tr>\n",
       "      <th>std</th>\n",
       "      <td>1.518877</td>\n",
       "    </tr>\n",
       "    <tr>\n",
       "      <th>min</th>\n",
       "      <td>10.000000</td>\n",
       "    </tr>\n",
       "    <tr>\n",
       "      <th>25%</th>\n",
       "      <td>16.000000</td>\n",
       "    </tr>\n",
       "    <tr>\n",
       "      <th>50%</th>\n",
       "      <td>17.000000</td>\n",
       "    </tr>\n",
       "    <tr>\n",
       "      <th>75%</th>\n",
       "      <td>17.000000</td>\n",
       "    </tr>\n",
       "    <tr>\n",
       "      <th>max</th>\n",
       "      <td>25.000000</td>\n",
       "    </tr>\n",
       "  </tbody>\n",
       "</table>\n",
       "</div>"
      ],
      "text/plain": [
       "       characterAge\n",
       "count    131.000000\n",
       "mean      16.580153\n",
       "std        1.518877\n",
       "min       10.000000\n",
       "25%       16.000000\n",
       "50%       17.000000\n",
       "75%       17.000000\n",
       "max       25.000000"
      ]
     },
     "execution_count": 62,
     "metadata": {},
     "output_type": "execute_result"
    }
   ],
   "source": [
    "df.describe()"
   ]
  },
  {
   "cell_type": "markdown",
   "metadata": {},
   "source": [
    "### Step 15. Summarize all the columns"
   ]
  },
  {
   "cell_type": "code",
   "execution_count": 63,
   "metadata": {
    "collapsed": false
   },
   "outputs": [
    {
     "data": {
      "text/html": [
       "<div>\n",
       "<style scoped>\n",
       "    .dataframe tbody tr th:only-of-type {\n",
       "        vertical-align: middle;\n",
       "    }\n",
       "\n",
       "    .dataframe tbody tr th {\n",
       "        vertical-align: top;\n",
       "    }\n",
       "\n",
       "    .dataframe thead th {\n",
       "        text-align: right;\n",
       "    }\n",
       "</style>\n",
       "<table border=\"1\" class=\"dataframe\">\n",
       "  <thead>\n",
       "    <tr style=\"text-align: right;\">\n",
       "      <th></th>\n",
       "      <th>name</th>\n",
       "      <th>birthday</th>\n",
       "      <th>title</th>\n",
       "      <th>characterName</th>\n",
       "      <th>characterYear</th>\n",
       "      <th>characterAge</th>\n",
       "      <th>characterGender</th>\n",
       "      <th>loveInterest</th>\n",
       "    </tr>\n",
       "  </thead>\n",
       "  <tbody>\n",
       "    <tr>\n",
       "      <th>count</th>\n",
       "      <td>243</td>\n",
       "      <td>227</td>\n",
       "      <td>243</td>\n",
       "      <td>243</td>\n",
       "      <td>111</td>\n",
       "      <td>131.000000</td>\n",
       "      <td>243</td>\n",
       "      <td>132</td>\n",
       "    </tr>\n",
       "    <tr>\n",
       "      <th>unique</th>\n",
       "      <td>240</td>\n",
       "      <td>220</td>\n",
       "      <td>33</td>\n",
       "      <td>243</td>\n",
       "      <td>8</td>\n",
       "      <td>NaN</td>\n",
       "      <td>4</td>\n",
       "      <td>123</td>\n",
       "    </tr>\n",
       "    <tr>\n",
       "      <th>top</th>\n",
       "      <td>Chad Michael Murray</td>\n",
       "      <td>11/09/1994</td>\n",
       "      <td>The Society</td>\n",
       "      <td>Payton Hobart</td>\n",
       "      <td>hs sophomore</td>\n",
       "      <td>NaN</td>\n",
       "      <td>F</td>\n",
       "      <td>Adam Groff</td>\n",
       "    </tr>\n",
       "    <tr>\n",
       "      <th>freq</th>\n",
       "      <td>2</td>\n",
       "      <td>2</td>\n",
       "      <td>14</td>\n",
       "      <td>1</td>\n",
       "      <td>39</td>\n",
       "      <td>NaN</td>\n",
       "      <td>129</td>\n",
       "      <td>2</td>\n",
       "    </tr>\n",
       "    <tr>\n",
       "      <th>mean</th>\n",
       "      <td>NaN</td>\n",
       "      <td>NaN</td>\n",
       "      <td>NaN</td>\n",
       "      <td>NaN</td>\n",
       "      <td>NaN</td>\n",
       "      <td>16.580153</td>\n",
       "      <td>NaN</td>\n",
       "      <td>NaN</td>\n",
       "    </tr>\n",
       "    <tr>\n",
       "      <th>std</th>\n",
       "      <td>NaN</td>\n",
       "      <td>NaN</td>\n",
       "      <td>NaN</td>\n",
       "      <td>NaN</td>\n",
       "      <td>NaN</td>\n",
       "      <td>1.518877</td>\n",
       "      <td>NaN</td>\n",
       "      <td>NaN</td>\n",
       "    </tr>\n",
       "    <tr>\n",
       "      <th>min</th>\n",
       "      <td>NaN</td>\n",
       "      <td>NaN</td>\n",
       "      <td>NaN</td>\n",
       "      <td>NaN</td>\n",
       "      <td>NaN</td>\n",
       "      <td>10.000000</td>\n",
       "      <td>NaN</td>\n",
       "      <td>NaN</td>\n",
       "    </tr>\n",
       "    <tr>\n",
       "      <th>25%</th>\n",
       "      <td>NaN</td>\n",
       "      <td>NaN</td>\n",
       "      <td>NaN</td>\n",
       "      <td>NaN</td>\n",
       "      <td>NaN</td>\n",
       "      <td>16.000000</td>\n",
       "      <td>NaN</td>\n",
       "      <td>NaN</td>\n",
       "    </tr>\n",
       "    <tr>\n",
       "      <th>50%</th>\n",
       "      <td>NaN</td>\n",
       "      <td>NaN</td>\n",
       "      <td>NaN</td>\n",
       "      <td>NaN</td>\n",
       "      <td>NaN</td>\n",
       "      <td>17.000000</td>\n",
       "      <td>NaN</td>\n",
       "      <td>NaN</td>\n",
       "    </tr>\n",
       "    <tr>\n",
       "      <th>75%</th>\n",
       "      <td>NaN</td>\n",
       "      <td>NaN</td>\n",
       "      <td>NaN</td>\n",
       "      <td>NaN</td>\n",
       "      <td>NaN</td>\n",
       "      <td>17.000000</td>\n",
       "      <td>NaN</td>\n",
       "      <td>NaN</td>\n",
       "    </tr>\n",
       "    <tr>\n",
       "      <th>max</th>\n",
       "      <td>NaN</td>\n",
       "      <td>NaN</td>\n",
       "      <td>NaN</td>\n",
       "      <td>NaN</td>\n",
       "      <td>NaN</td>\n",
       "      <td>25.000000</td>\n",
       "      <td>NaN</td>\n",
       "      <td>NaN</td>\n",
       "    </tr>\n",
       "  </tbody>\n",
       "</table>\n",
       "</div>"
      ],
      "text/plain": [
       "                       name    birthday        title  characterName  \\\n",
       "count                   243         227          243            243   \n",
       "unique                  240         220           33            243   \n",
       "top     Chad Michael Murray  11/09/1994  The Society  Payton Hobart   \n",
       "freq                      2           2           14              1   \n",
       "mean                    NaN         NaN          NaN            NaN   \n",
       "std                     NaN         NaN          NaN            NaN   \n",
       "min                     NaN         NaN          NaN            NaN   \n",
       "25%                     NaN         NaN          NaN            NaN   \n",
       "50%                     NaN         NaN          NaN            NaN   \n",
       "75%                     NaN         NaN          NaN            NaN   \n",
       "max                     NaN         NaN          NaN            NaN   \n",
       "\n",
       "       characterYear  characterAge characterGender loveInterest  \n",
       "count            111    131.000000             243          132  \n",
       "unique             8           NaN               4          123  \n",
       "top     hs sophomore           NaN               F   Adam Groff  \n",
       "freq              39           NaN             129            2  \n",
       "mean             NaN     16.580153             NaN          NaN  \n",
       "std              NaN      1.518877             NaN          NaN  \n",
       "min              NaN     10.000000             NaN          NaN  \n",
       "25%              NaN     16.000000             NaN          NaN  \n",
       "50%              NaN     17.000000             NaN          NaN  \n",
       "75%              NaN     17.000000             NaN          NaN  \n",
       "max              NaN     25.000000             NaN          NaN  "
      ]
     },
     "execution_count": 63,
     "metadata": {},
     "output_type": "execute_result"
    }
   ],
   "source": [
    "df.describe(include = \"all\")"
   ]
  },
  {
   "cell_type": "markdown",
   "metadata": {},
   "source": [
    "### Step 16. Summarize only the loveInterest column"
   ]
  },
  {
   "cell_type": "code",
   "execution_count": 69,
   "metadata": {
    "collapsed": false
   },
   "outputs": [
    {
     "data": {
      "text/plain": [
       "count            132\n",
       "unique           123\n",
       "top       Adam Groff\n",
       "freq               2\n",
       "Name: loveInterest, dtype: object"
      ]
     },
     "execution_count": 69,
     "metadata": {},
     "output_type": "execute_result"
    }
   ],
   "source": [
    "df.loveInterest.describe()"
   ]
  },
  {
   "cell_type": "markdown",
   "metadata": {},
   "source": [
    "### Step 17. What is the mean birthday of users?"
   ]
  },
  {
   "cell_type": "code",
   "execution_count": 73,
   "metadata": {
    "collapsed": false
   },
   "outputs": [
    {
     "data": {
      "text/plain": [
       "17"
      ]
     },
     "execution_count": 73,
     "metadata": {},
     "output_type": "execute_result"
    }
   ],
   "source": [
    "round(df.characterAge.mean())"
   ]
  },
  {
   "cell_type": "markdown",
   "metadata": {},
   "source": [
    "### Step 18. What is the birthday with least occurrence?"
   ]
  },
  {
   "cell_type": "code",
   "execution_count": 70,
   "metadata": {
    "collapsed": false
   },
   "outputs": [
    {
     "data": {
      "text/plain": [
       "birthday\n",
       "08/03/2000    1\n",
       "11/15/1991    1\n",
       "08/08/1989    1\n",
       "09/16/1987    1\n",
       "04/20/1998    1\n",
       "Name: count, dtype: int64"
      ]
     },
     "execution_count": 70,
     "metadata": {},
     "output_type": "execute_result"
    }
   ],
   "source": [
    "df.birthday.value_counts().tail()"
   ]
  }
 ],
 "metadata": {
  "anaconda-cloud": {},
  "kernelspec": {
   "display_name": "datascience",
   "language": "python",
   "name": "python3"
  },
  "language_info": {
   "codemirror_mode": {
    "name": "ipython",
    "version": 3
   },
   "file_extension": ".py",
   "mimetype": "text/x-python",
   "name": "python",
   "nbconvert_exporter": "python",
   "pygments_lexer": "ipython3",
   "version": "3.8.18"
  }
 },
 "nbformat": 4,
 "nbformat_minor": 0
}
